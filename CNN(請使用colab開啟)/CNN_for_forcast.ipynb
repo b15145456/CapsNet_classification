{
  "nbformat": 4,
  "nbformat_minor": 0,
  "metadata": {
    "colab": {
      "name": "CNN for forcast.ipynb",
      "provenance": [],
      "collapsed_sections": []
    },
    "kernelspec": {
      "name": "python3",
      "display_name": "Python 3"
    }
  },
  "cells": [
    {
      "cell_type": "markdown",
      "metadata": {
        "id": "rp6F08w1L2Fs"
      },
      "source": [
        "npy檔案在 CapsNet_classification/data/quantitative_precipitation/\n",
        "請將裡面的npy擋下載後 上傳到colab後依序執行cell即可"
      ]
    },
    {
      "cell_type": "code",
      "metadata": {
        "id": "JjVzno8U2Io1"
      },
      "source": [
        "import os\n",
        "import scipy\n",
        "import numpy as np\n",
        "import tensorflow as tf\n",
        "\n",
        "\n",
        "def load_mnist(batch_size, is_training=True):\n",
        "    path = os.path.join('data', 'mnist')\n",
        "    train_num, test_num = 60000, 10000\n",
        "    if is_training:\n",
        "        fd = open(os.path.join(path, 'train-images-idx3-ubyte'))\n",
        "        loaded = np.fromfile(file=fd, dtype=np.uint8)\n",
        "        trainX = loaded[16:].reshape((train_num, 28, 28, 1)).astype(np.float32)\n",
        "\n",
        "        fd = open(os.path.join(path, 'train-labels-idx1-ubyte'))\n",
        "        loaded = np.fromfile(file=fd, dtype=np.uint8)\n",
        "        trainY = loaded[8:].reshape((train_num)).astype(np.int32)\n",
        "\n",
        "        trX = trainX[:] / 255.\n",
        "        trY = trainY[:]\n",
        "        num_tr_batch = train_num // batch_size\n",
        "\n",
        "        return trX, trY, num_tr_batch\n",
        "    else:\n",
        "        fd = open(os.path.join(path, 't10k-images-idx3-ubyte'))\n",
        "        loaded = np.fromfile(file=fd, dtype=np.uint8)\n",
        "        teX = loaded[16:].reshape((test_num, 28, 28, 1)).astype(np.float)\n",
        "\n",
        "        fd = open(os.path.join(path, 't10k-labels-idx1-ubyte'))\n",
        "        loaded = np.fromfile(file=fd, dtype=np.uint8)\n",
        "        teY = loaded[8:].reshape((test_num)).astype(np.int32)\n",
        "\n",
        "        num_te_batch = test_num // batch_size\n",
        "        return teX / 255., teY, num_te_batch\n",
        "\n",
        "\n",
        "def load_fashion_mnist(batch_size, is_training=True):\n",
        "    path = os.path.join('data', 'fashion-mnist')\n",
        "    train_num, test_num = 60000, 10000\n",
        "    if is_training:\n",
        "        fd = open(os.path.join(path, 'train-images-idx3-ubyte'))\n",
        "        loaded = np.fromfile(file=fd, dtype=np.uint8)\n",
        "        trainX = loaded[16:].reshape((train_num, 28, 28, 1)).astype(np.float32)\n",
        "\n",
        "        fd = open(os.path.join(path, 'train-labels-idx1-ubyte'))\n",
        "        loaded = np.fromfile(file=fd, dtype=np.uint8)\n",
        "        trainY = loaded[8:].reshape((train_num)).astype(np.int32)\n",
        "\n",
        "        trX = trainX[:] / 255.\n",
        "        trY = trainY[:]\n",
        "        num_tr_batch = train_num // batch_size\n",
        "\n",
        "        return trX, trY, num_tr_batch\n",
        "    else:\n",
        "        fd = open(os.path.join(path, 't10k-images-idx3-ubyte'))\n",
        "        loaded = np.fromfile(file=fd, dtype=np.uint8)\n",
        "        teX = loaded[16:].reshape((test_num, 28, 28, 1)).astype(np.float)\n",
        "\n",
        "        fd = open(os.path.join(path, 't10k-labels-idx1-ubyte'))\n",
        "        loaded = np.fromfile(file=fd, dtype=np.uint8)\n",
        "        teY = loaded[8:].reshape((test_num)).astype(np.int32)\n",
        "\n",
        "        num_te_batch = test_num // batch_size\n",
        "        return teX / 255., teY, num_te_batch\n",
        "\n",
        "\n",
        "def load_myself(batch_size, is_training=True):\n",
        "    path = os.path.join('data', 'myself')\n",
        "    train_num, test_num = 719, 359\n",
        "    if is_training:\n",
        "        fd = open(os.path.join(path, 'train-images-idx3-ubyte'))\n",
        "        loaded = np.fromfile(file=fd, dtype=np.uint8)\n",
        "        trainX = loaded[16:].reshape((train_num, 28, 28, 1)).astype(np.float32)\n",
        "\n",
        "        fd = open(os.path.join(path, 'train-labels-idx1-ubyte'))\n",
        "        loaded = np.fromfile(file=fd, dtype=np.uint8)\n",
        "        trainY = loaded[8:].reshape((train_num)).astype(np.int32)\n",
        "\n",
        "        trX = trainX[:] / 255.\n",
        "        trY = trainY[:]\n",
        "        num_tr_batch = train_num // batch_size\n",
        "\n",
        "        return trX, trY, num_tr_batch\n",
        "    else:\n",
        "        fd = open(os.path.join(path, 'test-images-idx3-ubyte'))\n",
        "        loaded = np.fromfile(file=fd, dtype=np.uint8)\n",
        "        teX = loaded[16:].reshape((test_num, 28, 28, 1)).astype(np.float)\n",
        "\n",
        "        fd = open(os.path.join(path, 'test-labels-idx1-ubyte'))\n",
        "        loaded = np.fromfile(file=fd, dtype=np.uint8)\n",
        "        teY = loaded[8:].reshape((test_num)).astype(np.int32)\n",
        "\n",
        "        num_te_batch = test_num // batch_size\n",
        "        return teX / 255., teY, num_te_batch\n",
        "\n",
        "def load_quantitative_precipitation(batch_size, is_training=True):\n",
        "    target_path = os.path.join('data', 'quantitative_precipitation')\n",
        "    train_num, test_num = 719, 349\n",
        "    if is_training:\n",
        "        fd = np.load('training_data2.npy')\n",
        "        # fd = np.load('testing_images_rotated_data.npy')\n",
        "        trainX = np.reshape(fd, (train_num, 28, 28, 1))\n",
        "\n",
        "        fd = np.load('training_label2.npy')\n",
        "        # fd = np.load('testing_images_rotated_label.npy')\n",
        "        trainY = np.reshape(fd, (train_num))\n",
        "\n",
        "        trX = trainX[:] / 255.\n",
        "        trY = trainY[:]\n",
        "        num_tr_batch = train_num // batch_size\n",
        "\n",
        "        return trX, trY, num_tr_batch\n",
        "    else:\n",
        "        # fd = np.load('testing_data2.npy')\n",
        "        fd = np.load('testing_images_rotated_data.npy')\n",
        "\n",
        "        teX = np.reshape(fd, (test_num, 28, 28, 1))\n",
        "        fd = np.load('testing_images_rotated_label.npy')\n",
        "        # fd = np.load('testing_label2.npy')\n",
        "        teY = np.reshape(fd, (test_num))\n",
        "\n",
        "        num_te_batch = test_num // batch_size\n",
        "        return teX / 255., teY, num_te_batch\n",
        "\n",
        "def load_data(dataset, batch_size, is_training=True, one_hot=False):\n",
        "    if dataset == 'mnist':\n",
        "        return load_mnist(batch_size, is_training)\n",
        "    elif dataset == 'fashion-mnist':\n",
        "        return load_fashion_mnist(batch_size, is_training)\n",
        "    elif dataset == 'myself':\n",
        "        return load_myself(batch_size, is_training)\n",
        "    elif dataset == 'quantitative_precipitation':\n",
        "        return load_quantitative_precipitation(batch_size, is_training)\n",
        "    else:\n",
        "        raise Exception('Invalid dataset, please check the name of dataset:', dataset)\n",
        "\n",
        "\n",
        "def get_batch_data(dataset, batch_size, num_threads):\n",
        "    trX, trY, num_tr_batch = load_data(dataset, batch_size, is_training=True)\n",
        "    # tf使用了兩個線程分別執行數據讀入和數據計算，創建tf的文件名域名\n",
        "    data_queues = tf.train.slice_input_producer([trX, trY]) #will be removed in a future version.\n",
        "    # 隨機打亂張量的順序創建batch，batch_size一次處理的tensors數量，num_thread線程數量，capacity隊列中的最大的元素數需>min_after_dequeue混合程度\n",
        "    X, Y = tf.train.shuffle_batch(data_queues, num_threads=num_threads,\n",
        "                                  batch_size=batch_size,\n",
        "                                  capacity=batch_size * 64,\n",
        "                                  min_after_dequeue=batch_size * 32,\n",
        "                                  allow_smaller_final_batch=False)\n",
        "    return(X, Y)\n",
        "\n",
        "\n",
        "def save_images(imgs, size, path):\n",
        "    '''\n",
        "    Args:\n",
        "        imgs: [batch_size, image_height, image_width]\n",
        "        size: a list with tow int elements, [image_height, image_width]\n",
        "        path: the path to save images\n",
        "    '''\n",
        "    imgs = (imgs + 1.) / 2  # inverse_transform\n",
        "    return(scipy.misc.imsave(path, mergeImgs(imgs, size)))\n",
        "\n",
        "\n",
        "def mergeImgs(images, size):\n",
        "    h, w = images.shape[1], images.shape[2]\n",
        "    imgs = np.zeros((h * size[0], w * size[1], 3))\n",
        "    for idx, image in enumerate(images):\n",
        "        i = idx % size[1]\n",
        "        j = idx // size[1]\n",
        "        imgs[j * h:j * h + h, i * w:i * w + w, :] = image\n",
        "    return imgs\n",
        "\n",
        "\n",
        "# For version compatibility\n",
        "def reduce_sum(input_tensor, axis=None, keepdims=False):\n",
        "    try:\n",
        "        return tf.reduce_sum(input_tensor, axis=axis, keepdims=keepdims)\n",
        "    except:\n",
        "        return tf.reduce_sum(input_tensor, axis=axis, keep_dims=keepdims)\n",
        "\n",
        "\n",
        "# For version compatibility\n",
        "def softmax(logits, axis=None):\n",
        "    try:\n",
        "        return tf.nn.softmax(logits, axis=axis)\n",
        "    except:\n",
        "        return tf.nn.softmax(logits, dim=axis)\n",
        "\n",
        "\n",
        "def get_shape(inputs, name=None):\n",
        "    name = \"shape\" if name is None else name\n",
        "    with tf.name_scope(name):\n",
        "        static_shape = inputs.get_shape().as_list()\n",
        "        dynamic_shape = tf.shape(inputs)\n",
        "        shape = []\n",
        "        for i, dim in enumerate(static_shape):\n",
        "            dim = dim if dim is not None else dynamic_shape[i]\n",
        "            shape.append(dim)\n",
        "        return(shape)\n"
      ],
      "execution_count": null,
      "outputs": []
    },
    {
      "cell_type": "code",
      "metadata": {
        "id": "l3BEdxMj2eCG"
      },
      "source": [
        "train_x, train_y , train_batch_num = load_quantitative_precipitation(1)\n",
        "test_x, test_y , test_batch_num = load_quantitative_precipitation(1, False)"
      ],
      "execution_count": null,
      "outputs": []
    },
    {
      "cell_type": "code",
      "metadata": {
        "colab": {
          "base_uri": "https://localhost:8080/"
        },
        "id": "8a2UWqfEiNwq",
        "outputId": "8d22784a-fb38-4198-df0c-905fe836d545"
      },
      "source": [
        "train_batch_num"
      ],
      "execution_count": null,
      "outputs": [
        {
          "output_type": "execute_result",
          "data": {
            "text/plain": [
              "719"
            ]
          },
          "metadata": {
            "tags": []
          },
          "execution_count": 7
        }
      ]
    },
    {
      "cell_type": "code",
      "metadata": {
        "id": "EERQrsx2V1QK"
      },
      "source": [
        "import tensorflow as tf\n",
        "model = tf.keras.models.Sequential([\n",
        "    # This is the first convolution\n",
        "    tf.keras.layers.Conv2D(32, (3,3), activation='relu', input_shape=(28, 28, 1)),\n",
        "    tf.keras.layers.MaxPooling2D(2,2),\n",
        "    # The second convolution\n",
        "    tf.keras.layers.Conv2D(64, (3,3), activation='relu'),\n",
        "    tf.keras.layers.MaxPooling2D(2,2),\n",
        "    # Flatten the results to feed into a DNN\n",
        "    tf.keras.layers.Flatten(),\n",
        "    # 512 neuron hidden layer\n",
        "    tf.keras.layers.Dense(512, activation='relu'),\n",
        "    tf.keras.layers.Dropout(0.5),\n",
        "    tf.keras.layers.Dense(1, activation='sigmoid')\n",
        "])\n",
        "\n",
        "# from keras import layers\n",
        "# from keras import models\n",
        "# model = models.Sequential()\n",
        "# model.add(layers.Conv2D(32, (3,3), activation = 'relu', input_shape=(28,28,1)))\n",
        "# model.add(layers.MaxPooling2D(2,2))\n",
        "# model.add(layers.Conv2D(64, (3,3), activation = 'relu'))\n",
        "# model.add(layers.MaxPooling2D(2,2))\n",
        "# model.add(layers.Conv2D(128, (3,3), activation = 'relu'))\n",
        "# model.add(layers.MaxPooling2D(2,2))\n",
        "# model.add(layers.Flatten())\n",
        "# model.add(layers.Dense(512, activation='relu'))\n",
        "# model.add(layers.Dense(1, activation='sigmoid'))"
      ],
      "execution_count": null,
      "outputs": []
    },
    {
      "cell_type": "code",
      "metadata": {
        "colab": {
          "base_uri": "https://localhost:8080/"
        },
        "id": "usapwC-lzK1T",
        "outputId": "1900ac3b-59f3-4150-c69f-7a936da2cf23"
      },
      "source": [
        "model.summary()"
      ],
      "execution_count": null,
      "outputs": [
        {
          "output_type": "stream",
          "text": [
            "Model: \"sequential_2\"\n",
            "_________________________________________________________________\n",
            "Layer (type)                 Output Shape              Param #   \n",
            "=================================================================\n",
            "conv2d_4 (Conv2D)            (None, 26, 26, 32)        320       \n",
            "_________________________________________________________________\n",
            "max_pooling2d_4 (MaxPooling2 (None, 13, 13, 32)        0         \n",
            "_________________________________________________________________\n",
            "conv2d_5 (Conv2D)            (None, 11, 11, 64)        18496     \n",
            "_________________________________________________________________\n",
            "max_pooling2d_5 (MaxPooling2 (None, 5, 5, 64)          0         \n",
            "_________________________________________________________________\n",
            "flatten_2 (Flatten)          (None, 1600)              0         \n",
            "_________________________________________________________________\n",
            "dense_4 (Dense)              (None, 512)               819712    \n",
            "_________________________________________________________________\n",
            "dropout_1 (Dropout)          (None, 512)               0         \n",
            "_________________________________________________________________\n",
            "dense_5 (Dense)              (None, 1)                 513       \n",
            "=================================================================\n",
            "Total params: 839,041\n",
            "Trainable params: 839,041\n",
            "Non-trainable params: 0\n",
            "_________________________________________________________________\n"
          ],
          "name": "stdout"
        }
      ]
    },
    {
      "cell_type": "code",
      "metadata": {
        "id": "QIjCeUaUcf3a"
      },
      "source": [
        "from tensorflow.keras.optimizers import RMSprop\n",
        " \n",
        "model.compile(loss='binary_crossentropy',\n",
        "              optimizer=RMSprop(lr=1e-4),\n",
        "              metrics=['acc']\n",
        "              )\n",
        "# model.compile(optimizer = 'adam', loss = 'binary_crossentropy', metrics = ['acc'])"
      ],
      "execution_count": null,
      "outputs": []
    },
    {
      "cell_type": "code",
      "metadata": {
        "colab": {
          "base_uri": "https://localhost:8080/"
        },
        "id": "MISyWVvBXJoQ",
        "outputId": "4768e829-93d9-4e93-e663-08870500fdde"
      },
      "source": [
        "train_x.shape"
      ],
      "execution_count": null,
      "outputs": [
        {
          "output_type": "execute_result",
          "data": {
            "text/plain": [
              "(719, 28, 28, 1)"
            ]
          },
          "metadata": {
            "tags": []
          },
          "execution_count": 32
        }
      ]
    },
    {
      "cell_type": "code",
      "metadata": {
        "colab": {
          "base_uri": "https://localhost:8080/"
        },
        "id": "YnNDhXced5Ab",
        "outputId": "09e4c164-f1de-4c02-9368-ddcecea2db60"
      },
      "source": [
        "train_history = model.fit(x=train_x, y=train_y, batch_size = 64, validation_split=0.3, epochs=50, verbose=1)\n",
        "# train_history = model.fit(x=train_x, y=train_y, epochs=5, verbose=1)"
      ],
      "execution_count": null,
      "outputs": [
        {
          "output_type": "stream",
          "text": [
            "Epoch 1/50\n",
            "8/8 [==============================] - 1s 105ms/step - loss: 0.6621 - acc: 0.5811 - val_loss: 0.6290 - val_acc: 0.6343\n",
            "Epoch 2/50\n",
            "8/8 [==============================] - 1s 78ms/step - loss: 0.5941 - acc: 0.6844 - val_loss: 0.6037 - val_acc: 0.6343\n",
            "Epoch 3/50\n",
            "8/8 [==============================] - 1s 80ms/step - loss: 0.5844 - acc: 0.6722 - val_loss: 0.5838 - val_acc: 0.6343\n",
            "Epoch 4/50\n",
            "8/8 [==============================] - 1s 80ms/step - loss: 0.5763 - acc: 0.6690 - val_loss: 0.5713 - val_acc: 0.6343\n",
            "Epoch 5/50\n",
            "8/8 [==============================] - 1s 80ms/step - loss: 0.5405 - acc: 0.6856 - val_loss: 0.5396 - val_acc: 0.7778\n",
            "Epoch 6/50\n",
            "8/8 [==============================] - 1s 83ms/step - loss: 0.5279 - acc: 0.7500 - val_loss: 0.5102 - val_acc: 0.7685\n",
            "Epoch 7/50\n",
            "8/8 [==============================] - 1s 82ms/step - loss: 0.5007 - acc: 0.7550 - val_loss: 0.4838 - val_acc: 0.7917\n",
            "Epoch 8/50\n",
            "8/8 [==============================] - 1s 81ms/step - loss: 0.4817 - acc: 0.7772 - val_loss: 0.4601 - val_acc: 0.7917\n",
            "Epoch 9/50\n",
            "8/8 [==============================] - 1s 81ms/step - loss: 0.4468 - acc: 0.8016 - val_loss: 0.4325 - val_acc: 0.8796\n",
            "Epoch 10/50\n",
            "8/8 [==============================] - 1s 84ms/step - loss: 0.4374 - acc: 0.8470 - val_loss: 0.4141 - val_acc: 0.8009\n",
            "Epoch 11/50\n",
            "8/8 [==============================] - 1s 80ms/step - loss: 0.4219 - acc: 0.8240 - val_loss: 0.3855 - val_acc: 0.8241\n",
            "Epoch 12/50\n",
            "8/8 [==============================] - 1s 81ms/step - loss: 0.3699 - acc: 0.8641 - val_loss: 0.3446 - val_acc: 0.8704\n",
            "Epoch 13/50\n",
            "8/8 [==============================] - 1s 81ms/step - loss: 0.3479 - acc: 0.8734 - val_loss: 0.3163 - val_acc: 0.9444\n",
            "Epoch 14/50\n",
            "8/8 [==============================] - 1s 82ms/step - loss: 0.3243 - acc: 0.9165 - val_loss: 0.2889 - val_acc: 0.9676\n",
            "Epoch 15/50\n",
            "8/8 [==============================] - 1s 82ms/step - loss: 0.3013 - acc: 0.9044 - val_loss: 0.2711 - val_acc: 0.8889\n",
            "Epoch 16/50\n",
            "8/8 [==============================] - 1s 83ms/step - loss: 0.2798 - acc: 0.9208 - val_loss: 0.2495 - val_acc: 0.9120\n",
            "Epoch 17/50\n",
            "8/8 [==============================] - 1s 81ms/step - loss: 0.2395 - acc: 0.9213 - val_loss: 0.2128 - val_acc: 0.9815\n",
            "Epoch 18/50\n",
            "8/8 [==============================] - 1s 79ms/step - loss: 0.2443 - acc: 0.9319 - val_loss: 0.1927 - val_acc: 0.9815\n",
            "Epoch 19/50\n",
            "8/8 [==============================] - 1s 82ms/step - loss: 0.2059 - acc: 0.9703 - val_loss: 0.1855 - val_acc: 0.9444\n",
            "Epoch 20/50\n",
            "8/8 [==============================] - 1s 82ms/step - loss: 0.1965 - acc: 0.9565 - val_loss: 0.1541 - val_acc: 0.9861\n",
            "Epoch 21/50\n",
            "8/8 [==============================] - 1s 81ms/step - loss: 0.1606 - acc: 0.9853 - val_loss: 0.1361 - val_acc: 0.9861\n",
            "Epoch 22/50\n",
            "8/8 [==============================] - 1s 82ms/step - loss: 0.1476 - acc: 0.9758 - val_loss: 0.1196 - val_acc: 0.9907\n",
            "Epoch 23/50\n",
            "8/8 [==============================] - 1s 82ms/step - loss: 0.1255 - acc: 0.9860 - val_loss: 0.1114 - val_acc: 0.9815\n",
            "Epoch 24/50\n",
            "8/8 [==============================] - 1s 85ms/step - loss: 0.1344 - acc: 0.9720 - val_loss: 0.1033 - val_acc: 0.9815\n",
            "Epoch 25/50\n",
            "8/8 [==============================] - 1s 83ms/step - loss: 0.1203 - acc: 0.9719 - val_loss: 0.0843 - val_acc: 0.9907\n",
            "Epoch 26/50\n",
            "8/8 [==============================] - 1s 85ms/step - loss: 0.1004 - acc: 0.9827 - val_loss: 0.0797 - val_acc: 0.9954\n",
            "Epoch 27/50\n",
            "8/8 [==============================] - 1s 81ms/step - loss: 0.0894 - acc: 0.9926 - val_loss: 0.0723 - val_acc: 0.9954\n",
            "Epoch 28/50\n",
            "8/8 [==============================] - 1s 83ms/step - loss: 0.0980 - acc: 0.9776 - val_loss: 0.0645 - val_acc: 0.9954\n",
            "Epoch 29/50\n",
            "8/8 [==============================] - 1s 82ms/step - loss: 0.0740 - acc: 0.9906 - val_loss: 0.0569 - val_acc: 0.9907\n",
            "Epoch 30/50\n",
            "8/8 [==============================] - 1s 81ms/step - loss: 0.0745 - acc: 0.9924 - val_loss: 0.0482 - val_acc: 0.9954\n",
            "Epoch 31/50\n",
            "8/8 [==============================] - 1s 82ms/step - loss: 0.0591 - acc: 0.9949 - val_loss: 0.0491 - val_acc: 0.9954\n",
            "Epoch 32/50\n",
            "8/8 [==============================] - 1s 81ms/step - loss: 0.0623 - acc: 0.9913 - val_loss: 0.0405 - val_acc: 1.0000\n",
            "Epoch 33/50\n",
            "8/8 [==============================] - 1s 81ms/step - loss: 0.0502 - acc: 0.9965 - val_loss: 0.0353 - val_acc: 0.9954\n",
            "Epoch 34/50\n",
            "8/8 [==============================] - 1s 83ms/step - loss: 0.0502 - acc: 0.9917 - val_loss: 0.0320 - val_acc: 0.9954\n",
            "Epoch 35/50\n",
            "8/8 [==============================] - 1s 82ms/step - loss: 0.0506 - acc: 0.9938 - val_loss: 0.0301 - val_acc: 1.0000\n",
            "Epoch 36/50\n",
            "8/8 [==============================] - 1s 83ms/step - loss: 0.0467 - acc: 0.9853 - val_loss: 0.0269 - val_acc: 1.0000\n",
            "Epoch 37/50\n",
            "8/8 [==============================] - 1s 81ms/step - loss: 0.0422 - acc: 0.9903 - val_loss: 0.0261 - val_acc: 0.9954\n",
            "Epoch 38/50\n",
            "8/8 [==============================] - 1s 84ms/step - loss: 0.0322 - acc: 0.9967 - val_loss: 0.0232 - val_acc: 1.0000\n",
            "Epoch 39/50\n",
            "8/8 [==============================] - 1s 85ms/step - loss: 0.0371 - acc: 0.9954 - val_loss: 0.0230 - val_acc: 0.9954\n",
            "Epoch 40/50\n",
            "8/8 [==============================] - 1s 83ms/step - loss: 0.0355 - acc: 0.9937 - val_loss: 0.0203 - val_acc: 1.0000\n",
            "Epoch 41/50\n",
            "8/8 [==============================] - 1s 82ms/step - loss: 0.0275 - acc: 0.9925 - val_loss: 0.0286 - val_acc: 0.9907\n",
            "Epoch 42/50\n",
            "8/8 [==============================] - 1s 84ms/step - loss: 0.0411 - acc: 0.9901 - val_loss: 0.0191 - val_acc: 0.9954\n",
            "Epoch 43/50\n",
            "8/8 [==============================] - 1s 81ms/step - loss: 0.0229 - acc: 0.9977 - val_loss: 0.0171 - val_acc: 1.0000\n",
            "Epoch 44/50\n",
            "8/8 [==============================] - 1s 81ms/step - loss: 0.0335 - acc: 0.9929 - val_loss: 0.0180 - val_acc: 1.0000\n",
            "Epoch 45/50\n",
            "8/8 [==============================] - 1s 105ms/step - loss: 0.0274 - acc: 0.9937 - val_loss: 0.0147 - val_acc: 1.0000\n",
            "Epoch 46/50\n",
            "8/8 [==============================] - 1s 80ms/step - loss: 0.0261 - acc: 0.9912 - val_loss: 0.0151 - val_acc: 1.0000\n",
            "Epoch 47/50\n",
            "8/8 [==============================] - 1s 81ms/step - loss: 0.0235 - acc: 0.9919 - val_loss: 0.0130 - val_acc: 1.0000\n",
            "Epoch 48/50\n",
            "8/8 [==============================] - 1s 83ms/step - loss: 0.0276 - acc: 0.9890 - val_loss: 0.0127 - val_acc: 1.0000\n",
            "Epoch 49/50\n",
            "8/8 [==============================] - 1s 83ms/step - loss: 0.0226 - acc: 0.9937 - val_loss: 0.0120 - val_acc: 1.0000\n",
            "Epoch 50/50\n",
            "8/8 [==============================] - 1s 81ms/step - loss: 0.0229 - acc: 0.9928 - val_loss: 0.0130 - val_acc: 1.0000\n"
          ],
          "name": "stdout"
        }
      ]
    },
    {
      "cell_type": "code",
      "metadata": {
        "colab": {
          "base_uri": "https://localhost:8080/",
          "height": 545
        },
        "id": "7L9zVUxKjG0k",
        "outputId": "97a35564-7db1-4f43-e477-399a8c9be81a"
      },
      "source": [
        "import matplotlib.pyplot as plt\n",
        "\n",
        "acc = train_history.history['acc']\n",
        "val_acc = train_history.history['val_acc']\n",
        "loss = train_history.history['loss']\n",
        "val_loss = train_history.history['val_loss']\n",
        "\n",
        "epochs = range(1,len(acc)+1)\n",
        "plt.plot(epochs, acc, 'bo', label='Training acc')\n",
        "plt.plot(epochs, val_acc, 'b', label='Validation acc')\n",
        "plt.title('Training and validation accuracy')\n",
        "plt.legend()\n",
        "plt.figure()\n",
        "\n",
        "plt.plot(epochs, loss, 'bo', label='Training loss')\n",
        "plt.plot(epochs, val_loss, 'b', label='validation loss')\n",
        "plt.title('Training and validation loss')\n",
        "plt.legend()\n",
        "plt.show()"
      ],
      "execution_count": null,
      "outputs": [
        {
          "output_type": "display_data",
          "data": {
            "image/png": "[encoded data removed]",
            "text/plain": [
              "<Figure size 432x288 with 1 Axes>"
            ]
          },
          "metadata": {
            "tags": [],
            "needs_background": "light"
          }
        },
        {
          "output_type": "display_data",
          "data": {
            "image/png": "[encoded data removed]",
            "text/plain": [
              "<Figure size 432x288 with 1 Axes>"
            ]
          },
          "metadata": {
            "tags": [],
            "needs_background": "light"
          }
        }
      ]
    },
    {
      "cell_type": "code",
      "metadata": {
        "colab": {
          "base_uri": "https://localhost:8080/"
        },
        "id": "M-2RWyDLeJ7u",
        "outputId": "3c79b7c2-bdb8-4940-bdf2-ef2d4ce95d67"
      },
      "source": [
        "scores = model.evaluate(test_x, test_y)"
      ],
      "execution_count": null,
      "outputs": [
        {
          "output_type": "stream",
          "text": [
            "11/11 [==============================] - 0s 11ms/step - loss: 0.1356 - acc: 0.9542\n"
          ],
          "name": "stdout"
        }
      ]
    },
    {
      "cell_type": "code",
      "metadata": {
        "id": "DeG8mpWNQTrH",
        "colab": {
          "base_uri": "https://localhost:8080/"
        },
        "outputId": "50a7320a-1660-4a4c-c4e2-865ffd5e03b2"
      },
      "source": [
        "from sklearn.metrics import confusion_matrix,accuracy_score,recall_score,precision_score,f1_score,roc_auc_score\n",
        "\n",
        "# actual = [1,1,0,1,0,0,1,0,0,0]\n",
        "# predicted = [1,0,0,1,0,0,1,1,1,0]\n",
        "actual = test_y\n",
        "\n",
        "y = model.predict(test_x)\n",
        "y[y <= 0.5] = 0\n",
        "y[y > 0.5] = 1\n",
        "y = y.reshape(y.shape[0],)\n",
        "\n",
        "predicted = y\n",
        "\n",
        "print('testing')\n",
        "tn, fp, fn,tp = confusion_matrix(actual, predicted).ravel()\n",
        "print(tn, fp, fn,tp)\n",
        "print('fun call')\n",
        "print(accuracy_score(actual,predicted))\n",
        "print(recall_score(actual,predicted))\n",
        "print(precision_score(actual,predicted))\n",
        "print(f1_score(actual,predicted))\n",
        "print(roc_auc_score(actual,predicted))"
      ],
      "execution_count": null,
      "outputs": [
        {
          "output_type": "stream",
          "text": [
            "training\n",
            "472 1 1 245\n",
            "fun call\n",
            "0.9972183588317107\n",
            "0.9959349593495935\n",
            "0.9959349593495935\n",
            "0.9959349593495935\n",
            "0.9969103972223655\n",
            "testing\n",
            "230 1 15 103\n",
            "fun call\n",
            "0.9541547277936963\n",
            "0.8728813559322034\n",
            "0.9903846153846154\n",
            "0.927927927927928\n",
            "0.9342761758015996\n"
          ],
          "name": "stdout"
        }
      ]
    },
    {
      "cell_type": "code",
      "metadata": {
        "id": "cMPmXVsYXkuB"
      },
      "source": [
        ""
      ],
      "execution_count": null,
      "outputs": []
    }
  ]
}